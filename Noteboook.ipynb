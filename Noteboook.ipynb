{
 "cells": [
  {
   "cell_type": "code",
   "execution_count": 1,
   "id": "2250d619-2208-4c97-8467-defa69a8a861",
   "metadata": {
    "tags": []
   },
   "outputs": [],
   "source": [
    "import pickle\n",
    "import os\n",
    "from google_auth_oauthlib.flow import Flow, InstalledAppFlow\n",
    "from googleapiclient.discovery import build\n",
    "from googleapiclient.http import MediaFileUpload\n",
    "from google.auth.transport.requests import Request\n",
    "\n",
    "def Create_Service(client_secret_file, api_name, api_version, *scopes):\n",
    "    #print(client_secret_file, api_name, api_version, scopes, sep='-')\n",
    "    CLIENT_SECRET_FILE = client_secret_file\n",
    "    API_SERVICE_NAME = api_name\n",
    "    API_VERSION = api_version\n",
    "    SCOPES = [scope for scope in scopes[0]]\n",
    "    #print(SCOPES)\n",
    "\n",
    "    cred = None\n",
    "\n",
    "    pickle_file = f'token_{API_SERVICE_NAME}_{API_VERSION}.pickle'\n",
    "    # print(pickle_file)\n",
    "\n",
    "    if os.path.exists(pickle_file):\n",
    "        with open(pickle_file, 'rb') as token:\n",
    "            cred = pickle.load(token)\n",
    "\n",
    "    if not cred or not cred.valid:\n",
    "        if cred and cred.expired and cred.refresh_token:\n",
    "            cred.refresh(Request())\n",
    "        else:\n",
    "            flow = InstalledAppFlow.from_client_secrets_file(CLIENT_SECRET_FILE, SCOPES)\n",
    "            cred = flow.run_local_server()\n",
    "            #cred = flow.run_console()\n",
    "\n",
    "        with open(pickle_file, 'wb') as token:\n",
    "            pickle.dump(cred, token)\n",
    "\n",
    "    try:\n",
    "        service = build(API_SERVICE_NAME, API_VERSION, credentials=cred, static_discovery=False)\n",
    "        print(service)\n",
    "        print(API_SERVICE_NAME, 'service created successfully')\n",
    "        return service\n",
    "    except Exception as e:\n",
    "        print('Unable to connect. ')\n",
    "        print(e)\n",
    "        return \"Noup\""
   ]
  },
  {
   "cell_type": "code",
   "execution_count": 2,
   "id": "554d2226-1586-42f5-a536-bdeaa2b3a7b6",
   "metadata": {},
   "outputs": [
    {
     "name": "stdout",
     "output_type": "stream",
     "text": [
      "credentials.json-photoslibrary-v1-(['https://www.googleapis.com/auth/photoslibrary'],)\n",
      "['https://www.googleapis.com/auth/photoslibrary']\n",
      "<googleapiclient.discovery.Resource object at 0x7fd9ef591a90>\n",
      "photoslibrary service created successfully\n"
     ]
    }
   ],
   "source": [
    "import os\n",
    "import requests # pip install requests\n",
    "\n",
    "CLIENT_SECRET_FILE = 'credentials.json'\n",
    "API_NAME = 'photoslibrary'\n",
    "API_VERSION = 'v1'\n",
    "SCOPES = ['https://www.googleapis.com/auth/photoslibrary']\n",
    "\n",
    "service = Create_Service(CLIENT_SECRET_FILE, API_NAME, API_VERSION, SCOPES)"
   ]
  },
  {
   "cell_type": "code",
   "execution_count": 72,
   "id": "b8017dc8-bfb2-410b-9c48-cc296cd322b8",
   "metadata": {},
   "outputs": [
    {
     "name": "stdout",
     "output_type": "stream",
     "text": [
      "Select an album: \n",
      " 1) \"Tom\" - 680 fotos\n",
      " 2) \"Sin título\" - 676 fotos\n",
      " 3) \"Ajdosh\" - 6 fotos\n"
     ]
    },
    {
     "name": "stdin",
     "output_type": "stream",
     "text": [
      "Número de album (eg: 3): 1\n"
     ]
    },
    {
     "name": "stdout",
     "output_type": "stream",
     "text": [
      "\n",
      "Selected album: Tom (680 elements)\n"
     ]
    }
   ],
   "source": [
    "myAblums = service.albums().list().execute().get('albums')\n",
    "print(\"Select an album: \")\n",
    "index = 1;\n",
    "for album in myAblums:\n",
    "    print(f' {index}) \"{album[\"title\"]}\" - {album[\"mediaItemsCount\"]} fotos')\n",
    "    index = index +1\n",
    "\n",
    "index = int(input(\"Número de album (eg: 3):\"))-1\n",
    "album = myAblums[index]\n",
    "\n",
    "print(f'\\nSelected album: {album.get(\"title\")} ({album.get(\"mediaItemsCount\")} elements)')"
   ]
  },
  {
   "cell_type": "code",
   "execution_count": 73,
   "id": "d8e84846-c81f-443c-a02a-1988c5d6bc13",
   "metadata": {},
   "outputs": [
    {
     "name": "stdin",
     "output_type": "stream",
     "text": [
      "Enter base location:  /home/cranki/Pictures\n"
     ]
    },
    {
     "name": "stdout",
     "output_type": "stream",
     "text": [
      "Path: \"/home/cranki/Pictures/Google Photos/Tom\"\n"
     ]
    },
    {
     "data": {
      "text/plain": [
       "'/home/cranki/Pictures/Google Photos/Tom'"
      ]
     },
     "execution_count": 73,
     "metadata": {},
     "output_type": "execute_result"
    }
   ],
   "source": [
    "import os\n",
    "\n",
    "def createDirIfNotExists(path: str):\n",
    "    if not os.path.exists(path):\n",
    "        os.makedirs(path, exist_ok=True)\n",
    "    return path\n",
    "\n",
    "base = input(\"Enter base location: \")\n",
    "albumPath = os.path.join(base,'Google Photos', album[\"title\"])\n",
    "print(f'Path: \"{albumPath}\"')\n",
    "createDirIfNotExists(albumPath)\n"
   ]
  },
  {
   "cell_type": "code",
   "execution_count": 74,
   "id": "7c3b180f-d418-4eb0-9118-c5c567ab833b",
   "metadata": {},
   "outputs": [
    {
     "name": "stdout",
     "output_type": "stream",
     "text": [
      "680 items loaded\n"
     ]
    }
   ],
   "source": [
    "pageSize = 100\n",
    "pageToken = \"\"\n",
    "items = []\n",
    "\n",
    "while( len(items) < int(album[\"mediaItemsCount\"]) ):\n",
    "    albumData = service.mediaItems().search(body={'albumId': album['id'], 'pageSize': pageSize, 'pageToken': pageToken}).execute()\n",
    "    media_files = albumData[\"mediaItems\"]\n",
    "    media_files = list(map( lambda x: {\n",
    "        'filename': x['filename'],\n",
    "        'baseUrl': x['baseUrl']\n",
    "    }, media_files))\n",
    "    items += media_files\n",
    "    pageToken = albumData.get(\"nextPageToken\", \"\")\n",
    "\n",
    "#print(items[:10])\n",
    "print(f'{len(items)} items loaded')"
   ]
  },
  {
   "cell_type": "code",
   "execution_count": 75,
   "id": "63a17896-f593-43e0-9afa-4c79cd75d8c5",
   "metadata": {},
   "outputs": [],
   "source": [
    "# https://stackoverflow.com/a/3207973\n",
    "def dirContent(mypath: str):\n",
    "    from os import listdir\n",
    "    from os.path import isfile, join\n",
    "    files = [f for f in listdir(mypath) if isfile(join(mypath, f))]\n",
    "    return files"
   ]
  },
  {
   "cell_type": "code",
   "execution_count": 76,
   "id": "bfa539c6-be27-440b-9e63-79207d410a04",
   "metadata": {},
   "outputs": [
    {
     "name": "stdout",
     "output_type": "stream",
     "text": [
      "Already downloaded: 0\n"
     ]
    },
    {
     "name": "stderr",
     "output_type": "stream",
     "text": [
      "\n",
      "\n",
      "\n",
      "\n",
      "  0%|                                                                                                      | 0/680 [00:00<?, ?it/s]\u001b[A\u001b[A\u001b[A\u001b[A\n",
      "\n",
      "\n",
      "\n",
      "  0%|▏                                                                                             | 1/680 [00:00<03:51,  2.93it/s]\u001b[A\u001b[A\u001b[A\u001b[A\n",
      "\n",
      "\n",
      "\n",
      "  0%|▎                                                                                             | 2/680 [00:00<03:52,  2.91it/s]\u001b[A\u001b[A\u001b[A\u001b[A\n",
      "\n",
      "\n",
      "\n",
      "  0%|▍                                                                                             | 3/680 [00:00<03:42,  3.04it/s]\u001b[A\u001b[A\u001b[A\u001b[A\n",
      "\n",
      "\n",
      "\n",
      "  1%|▌                                                                                             | 4/680 [00:01<03:33,  3.17it/s]\u001b[A\u001b[A\u001b[A\u001b[A\n",
      "\n",
      "\n",
      "\n",
      "  1%|▋                                                                                             | 5/680 [00:01<03:34,  3.14it/s]\u001b[A\u001b[A\u001b[A\u001b[A\n",
      "\n",
      "\n",
      "\n",
      "  1%|▊                                                                                             | 6/680 [00:01<03:36,  3.11it/s]\u001b[A\u001b[A\u001b[A\u001b[A\n",
      "\n",
      "\n",
      "\n",
      "  1%|▉                                                                                             | 7/680 [00:02<03:37,  3.10it/s]\u001b[A\u001b[A\u001b[A\u001b[A\n",
      "\n",
      "\n",
      "\n",
      "  1%|█                                                                                             | 8/680 [00:02<03:37,  3.09it/s]\u001b[A\u001b[A\u001b[A\u001b[A\n",
      "\n",
      "\n",
      "\n",
      "  1%|█▏                                                                                            | 9/680 [00:02<03:35,  3.11it/s]\u001b[A\u001b[A\u001b[A\u001b[A\n",
      "\n",
      "\n",
      "\n",
      "  1%|█▎                                                                                           | 10/680 [00:03<03:40,  3.04it/s]\u001b[A\u001b[A\u001b[A\u001b[A\n",
      "\n",
      "\n",
      "\n",
      "  2%|█▌                                                                                           | 11/680 [00:03<04:19,  2.58it/s]\u001b[A\u001b[A\u001b[A\u001b[A\n",
      "\n",
      "\n",
      "\n",
      "  2%|█▋                                                                                           | 12/680 [00:04<04:01,  2.76it/s]\u001b[A\u001b[A\u001b[A\u001b[A\n",
      "\n",
      "\n",
      "\n",
      "  2%|█▊                                                                                           | 13/680 [00:04<03:55,  2.83it/s]\u001b[A\u001b[A\u001b[A\u001b[A\n",
      "\n",
      "\n",
      "\n",
      "  2%|█▉                                                                                           | 14/680 [00:04<03:57,  2.80it/s]\u001b[A\u001b[A\u001b[A\u001b[A\n",
      "\n",
      "\n",
      "\n",
      "  2%|██                                                                                           | 15/680 [00:05<03:56,  2.82it/s]\u001b[A\u001b[A\u001b[A\u001b[A\n",
      "\n",
      "\n",
      "\n",
      "  2%|██▏                                                                                          | 16/680 [00:05<04:13,  2.62it/s]\u001b[A\u001b[A\u001b[A\u001b[A\n",
      "\n",
      "\n",
      "\n",
      "  2%|██▎                                                                                          | 17/680 [00:05<04:03,  2.72it/s]\u001b[A\u001b[A\u001b[A\u001b[A\n",
      "\n",
      "\n",
      "\n",
      "  3%|██▍                                                                                          | 18/680 [00:06<04:02,  2.73it/s]\u001b[A\u001b[A\u001b[A\u001b[A\n",
      "\n",
      "\n",
      "\n",
      "  3%|██▌                                                                                          | 19/680 [00:06<04:00,  2.75it/s]\u001b[A\u001b[A\u001b[A\u001b[A\n",
      "\n",
      "\n",
      "\n",
      "  3%|██▋                                                                                          | 20/680 [00:07<04:27,  2.47it/s]\u001b[A\u001b[A\u001b[A\u001b[A\n",
      "\n",
      "\n",
      "\n",
      "  3%|██▊                                                                                          | 21/680 [00:07<04:47,  2.29it/s]\u001b[A\u001b[A\u001b[A\u001b[A\n",
      "\n",
      "\n",
      "\n",
      "  3%|███                                                                                          | 22/680 [00:07<04:22,  2.51it/s]\u001b[A\u001b[A\u001b[A\u001b[A\n",
      "\n",
      "\n",
      "\n",
      "  3%|███▏                                                                                         | 23/680 [00:08<04:12,  2.60it/s]\u001b[A\u001b[A\u001b[A\u001b[A\n",
      "\n",
      "\n",
      "\n",
      "  4%|███▎                                                                                         | 24/680 [00:08<04:06,  2.66it/s]\u001b[A\u001b[A\u001b[A\u001b[A\n",
      "\n",
      "\n",
      "\n",
      "  4%|███▍                                                                                         | 25/680 [00:09<04:10,  2.62it/s]\u001b[A\u001b[A\u001b[A\u001b[A\n",
      "\n",
      "\n",
      "\n",
      "  4%|███▌                                                                                         | 26/680 [00:09<04:12,  2.59it/s]\u001b[A\u001b[A\u001b[A\u001b[A\n",
      "\n",
      "\n",
      "\n",
      "  4%|███▋                                                                                         | 27/680 [00:09<04:06,  2.64it/s]\u001b[A\u001b[A\u001b[A\u001b[A\n",
      "\n",
      "\n",
      "\n",
      "  4%|███▊                                                                                         | 28/680 [00:10<04:04,  2.66it/s]\u001b[A\u001b[A\u001b[A\u001b[A\n",
      "\n",
      "\n",
      "\n",
      "  4%|███▉                                                                                         | 29/680 [00:10<03:55,  2.77it/s]\u001b[A\u001b[A\u001b[A\u001b[A\n",
      "\n",
      "\n",
      "\n",
      "  4%|████                                                                                         | 30/680 [00:10<03:49,  2.83it/s]\u001b[A\u001b[A\u001b[A\u001b[A\n",
      "\n",
      "\n",
      "\n",
      "  5%|████▏                                                                                        | 31/680 [00:11<03:42,  2.91it/s]\u001b[A\u001b[A\u001b[A\u001b[A\n",
      "\n",
      "\n",
      "\n",
      "  5%|████▍                                                                                        | 32/680 [00:11<03:41,  2.93it/s]\u001b[A\u001b[A\u001b[A\u001b[A\n",
      "\n",
      "\n",
      "\n",
      "  5%|████▌                                                                                        | 33/680 [00:11<03:50,  2.81it/s]\u001b[A\u001b[A\u001b[A\u001b[A\n",
      "\n",
      "\n",
      "\n",
      "  5%|████▋                                                                                        | 34/680 [00:12<03:59,  2.70it/s]\u001b[A\u001b[A\u001b[A\u001b[A\n",
      "\n",
      "\n",
      "\n",
      "  5%|████▊                                                                                        | 35/680 [00:12<03:50,  2.79it/s]\u001b[A\u001b[A\u001b[A\u001b[A\n",
      "\n",
      "\n",
      "\n",
      "  5%|████▉                                                                                        | 36/680 [00:13<04:07,  2.60it/s]\u001b[A\u001b[A\u001b[A\u001b[A\n",
      "\n",
      "\n",
      "\n",
      "  5%|█████                                                                                        | 37/680 [00:13<04:02,  2.66it/s]\u001b[A\u001b[A\u001b[A\u001b[A\n",
      "\n",
      "\n",
      "\n",
      "  6%|█████▏                                                                                       | 38/680 [00:13<03:59,  2.68it/s]\u001b[A\u001b[A\u001b[A\u001b[A\n",
      "\n",
      "\n",
      "\n",
      "  6%|█████▎                                                                                       | 39/680 [00:14<04:02,  2.64it/s]\u001b[A\u001b[A\u001b[A\u001b[A\n",
      "\n",
      "\n",
      "\n",
      "  6%|█████▍                                                                                       | 40/680 [00:14<04:01,  2.66it/s]\u001b[A\u001b[A\u001b[A\u001b[A\n",
      "\n",
      "\n",
      "\n",
      "  6%|█████▌                                                                                       | 41/680 [00:14<03:57,  2.69it/s]\u001b[A\u001b[A\u001b[A\u001b[A\n",
      "\n",
      "\n",
      "\n",
      "  6%|█████▋                                                                                       | 42/680 [00:15<03:57,  2.69it/s]\u001b[A\u001b[A\u001b[A\u001b[A\n",
      "\n",
      "\n",
      "\n",
      "  6%|█████▉                                                                                       | 43/680 [00:15<03:53,  2.72it/s]\u001b[A\u001b[A\u001b[A\u001b[A"
     ]
    },
    {
     "name": "stdout",
     "output_type": "stream",
     "text": [
      "Process stopped, images downloaded: 43\n"
     ]
    }
   ],
   "source": [
    "def download_file(url:str, destination_folder:str, file_name:str):\n",
    "    response = requests.get(url)\n",
    "    if response.status_code == 200:\n",
    "        with open(os.path.join(destination_folder, file_name), 'wb') as f:\n",
    "            f.write(response.content)\n",
    "            f.close()\n",
    "\n",
    "from tqdm import trange, tqdm\n",
    "\n",
    "alreadyDownloaded = len(dirContent(albumPath))\n",
    "print(f'Already downloaded: {alreadyDownloaded}')\n",
    "\n",
    "pbar=tqdm(total=len(items), initial=alreadyDownloaded)\n",
    "i=0\n",
    "try:\n",
    "    for i in range(alreadyDownloaded, len(items)):\n",
    "        media_file = items[i]\n",
    "        file_name = media_file['filename']\n",
    "        download_url = media_file['baseUrl'] + '=d'\n",
    "        download_file(download_url, albumPath, file_name)\n",
    "        pbar.update(1)\n",
    "        \n",
    "except KeyboardInterrupt:\n",
    "    print(f\"Process stopped, images downloaded: {len(dirContent(albumPath))}\")"
   ]
  },
  {
   "cell_type": "code",
   "execution_count": null,
   "id": "716349d8-7447-4d1e-9eca-2a7bf1a77046",
   "metadata": {},
   "outputs": [],
   "source": []
  }
 ],
 "metadata": {
  "kernelspec": {
   "display_name": "Python 3",
   "language": "python",
   "name": "python3"
  },
  "language_info": {
   "codemirror_mode": {
    "name": "ipython",
    "version": 3
   },
   "file_extension": ".py",
   "mimetype": "text/x-python",
   "name": "python",
   "nbconvert_exporter": "python",
   "pygments_lexer": "ipython3",
   "version": "3.9.6"
  }
 },
 "nbformat": 4,
 "nbformat_minor": 5
}
